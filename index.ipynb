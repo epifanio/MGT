{
 "cells": [
  {
   "cell_type": "markdown",
   "metadata": {},
   "source": [
    "# Marine Geomorphometric Toolbox\n",
    "\n",
    "**Notebooks for the development of a Free and Open Source toolbox from Digital Bathymetry Analysis (DBA)**\n",
    "\n",
    "The series of  notebooks in this repository is a collection of `methods` intended for the **MGT** development, a toolbox for to the segmentation and quantitative characterization of multibeam echosounder dataset. \n",
    "\n",
    "The core functionalities of MGT are based on the terrain analysys toools availalble in [GRASS GIS](https://grass.osgeo.org/), on some of the functionalities found in the ArcGIS Tooloboxes *Surface Gradient and Geomorphometric Modeling* [1] and in the Benthic Terrain Modeler [2], and on Specific Geomorphometry Rule-Based Modeling routines (GRM) developed ad-hoc for the quantitative characterization of Seascape Ecological Units [3].\n",
    "\n",
    "\n",
    "\n",
    "## 0.1 - [IPyGRASS](ipygrass/ipygrass.ipynb)\n",
    "Development of methods to facilitate the use Jupyter/GRASS GIS integration\n",
    "\n",
    "## 0.2 - [MGT utility](mgtutil.ipynb)\n",
    "Development of a set of *general utility functions* used in the MGT core processing code.\n",
    "<br>\n",
    "<br>\n",
    "<br>\n",
    "<br>\n",
    "--- \n",
    "# USE CASES\n",
    "\n",
    "## 1.0 - [GRM]()\n",
    "GIS Rule Based Modeling - This contains a series of notebook used to perform quantitatively characterization of particualr *Seascape Ecological Units* such as: large and Isolated sand dunes, sand ripples fields, Coral reefs, thermal vents, shoreline, ...\n",
    "### 1.1 - [Large, Isolated, Submarine Bedforms](GRM/geosciences-250279.ipynb)\n",
    "\n",
    "<br>\n",
    "<br>\n",
    "<br>\n",
    "<br>\n",
    "<br>\n",
    "<br>\n",
    "<br>\n",
    "<br>\n",
    "\n",
    "---\n",
    "\n",
    "**[1]** Evans JS, Oakleaf J, Cushman SA (2014) An ArcGIS Toolbox for Surface Gradient and Geomorphometric Modeling, version 2.0-0. URL: https://github.com/jeffreyevans/GradientMetrics Accessed: 2018-April-30.\n",
    "\n",
    "**[2]** Walbridge, S.; Slocum, N.; Pobuda, M.; Wright, D.J.\tUnified Geomorphological Analysis Workflows with Benthic Terrain Modeler. Geosciences 2018, 8(3), 94; doi:10.3390/geosciences8030094 URL: http://www.mdpi.com/2076-3263/8/3/94/htm Accessed: 2018-April-30.\n",
    "\n",
    "**[3]** Di Stefano, M.; Mayer, L.A. An Automatic Procedure for the Quantitative Characterization of Submarine Bedforms. \n",
    "Geosciences 2018, 8(1), 28; doi:10.3390/geosciences8010028 . URL: http://www.mdpi.com/2076-3263/8/1/28/htm Accessed: 2018-April-30."
   ]
  }
 ],
 "metadata": {
  "kernelspec": {
   "display_name": "Python 3",
   "language": "python",
   "name": "python3"
  },
  "language_info": {
   "codemirror_mode": {
    "name": "ipython",
    "version": 3
   },
   "file_extension": ".py",
   "mimetype": "text/x-python",
   "name": "python",
   "nbconvert_exporter": "python",
   "pygments_lexer": "ipython3",
   "version": "3.6.5"
  }
 },
 "nbformat": 4,
 "nbformat_minor": 2
}
