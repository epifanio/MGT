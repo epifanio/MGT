{
 "cells": [
  {
   "cell_type": "markdown",
   "metadata": {},
   "source": [
    "# IPyGRASS\n",
    "* `episg` - Search Utility for theEPSG database\n",
    "* `gisutil` - General parsing utility and HTML renders \n",
    "* `grassutil` - Scripting Utility to work with GRASS GIS \n",
    "* `grender` - Jupyter widgets to interact with GRASS GIS"
   ]
  }
 ],
 "metadata": {
  "kernelspec": {
   "display_name": "Python 3",
   "language": "python",
   "name": "python3"
  },
  "language_info": {
   "codemirror_mode": {
    "name": "ipython",
    "version": 3
   },
   "file_extension": ".py",
   "mimetype": "text/x-python",
   "name": "python",
   "nbconvert_exporter": "python",
   "pygments_lexer": "ipython3",
   "version": "3.6.5"
  }
 },
 "nbformat": 4,
 "nbformat_minor": 2
}
